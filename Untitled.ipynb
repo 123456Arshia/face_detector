{
 "cells": [
  {
   "cell_type": "code",
   "execution_count": 8,
   "id": "f0105ea1",
   "metadata": {},
   "outputs": [],
   "source": [
    "import cv2"
   ]
  },
  {
   "cell_type": "code",
   "execution_count": 9,
   "id": "dfdebec7",
   "metadata": {},
   "outputs": [],
   "source": [
    "face_detect = cv2.CascadeClassifier('haarcascade_frontalface_default.xml')\n",
    "eye_detect = cv2.CascadeClassifier('haarcascade_eye.xml')"
   ]
  },
  {
   "cell_type": "code",
   "execution_count": 10,
   "id": "dcd33b70",
   "metadata": {},
   "outputs": [],
   "source": [
    "def detecor(gray , frame):\n",
    "    faces = face_detect.detectMultiScale(gray , 1.3 , 5)\n",
    "    for (x , y , w ,h) in faces:\n",
    "        cv2.rectangle(frame , (x,y),(x+w,y+h) ,(255,0,0) ,2)\n",
    "        roi_gray = gray[y:y+h , x:x+w]\n",
    "        roi_color = frame[y:y+h , x:x+w]\n",
    "        eyes = eye_detect.detectMultiScale(roi_gray , 1.1 , 3)\n",
    "        for (ex , ey , ew ,eh) in faces:\n",
    "            cv2.rectangle(roi_color , (ex,ey),(ex+ew,ey+eh) ,(255,0,0) ,2)\n",
    "    return frame"
   ]
  },
  {
   "cell_type": "code",
   "execution_count": null,
   "id": "0a453b94",
   "metadata": {},
   "outputs": [],
   "source": [
    "camera = cv2.VideoCapture(0);\n",
    "while True :\n",
    "    _,frame = camera.read()\n",
    "    gray = cv2.cvtColor(frame , cv2.COLOR_BGR2GRAY)\n",
    "    canvas = detect(gray, frame)\n",
    "    cv2.imshow('Video', canvas)\n",
    "    if cv2.waitKey(1) & 0xFF == ord('q'):\n",
    "        break\n",
    "video_capture.release()\n",
    "cv2.destroyAllWindows()"
   ]
  }
 ],
 "metadata": {
  "kernelspec": {
   "display_name": "Python 3 (ipykernel)",
   "language": "python",
   "name": "python3"
  },
  "language_info": {
   "codemirror_mode": {
    "name": "ipython",
    "version": 3
   },
   "file_extension": ".py",
   "mimetype": "text/x-python",
   "name": "python",
   "nbconvert_exporter": "python",
   "pygments_lexer": "ipython3",
   "version": "3.10.9"
  }
 },
 "nbformat": 4,
 "nbformat_minor": 5
}
